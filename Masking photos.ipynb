{
 "cells": [
  {
   "cell_type": "code",
   "execution_count": 11,
   "id": "c49db978",
   "metadata": {},
   "outputs": [],
   "source": [
    "from PIL import Image,ImageChops,ImageDraw\n",
    "import numpy as np\n",
    "import os"
   ]
  },
  {
   "cell_type": "code",
   "execution_count": 4,
   "id": "675cfc4f",
   "metadata": {},
   "outputs": [],
   "source": [
    "def square_crop_in_center(img):\n",
    "    '''\n",
    "    Crop the image to the biggest centered square\n",
    "    Takes an image, returns an image\n",
    "    '''\n",
    "    width, height = img.size  # Get dimensions\n",
    "    new_width = min(width, height)\n",
    "    new_height = min(width, height)\n",
    "\n",
    "    left = (width - new_width) / 2\n",
    "    top = (height - new_height) / 2\n",
    "    right = (width + new_width) / 2\n",
    "    bottom = (height + new_height) / 2\n",
    "\n",
    "    # Crop the center of the image\n",
    "    return img.crop((left, top, right, bottom))"
   ]
  },
  {
   "cell_type": "code",
   "execution_count": 8,
   "id": "bdeb5af2",
   "metadata": {},
   "outputs": [],
   "source": [
    "def image_to_circle(img):\n",
    "    '''\n",
    "    From any image format, provides a circle image (centered)\n",
    "    Takes a PIL image, returns a PIL image\n",
    "    '''\n",
    "    img = img.convert(\"RGB\")\n",
    "    # Make img as a square if not\n",
    "    h, w = img.size\n",
    "    if h != w:\n",
    "        img = square_crop_in_center(img)\n",
    "\n",
    "    # Open the input image as numpy array, convert to RGB\n",
    "    npImage = np.array(img)\n",
    "    h, w = img.size\n",
    "    radius = min(h, w)\n",
    "\n",
    "    # Create same size alpha layer with circle\n",
    "    alpha = Image.new('L', (h,w),0)\n",
    "    draw = ImageDraw.Draw(alpha)\n",
    "    draw.pieslice([0, 0, radius, radius], 0, 360, fill=255)\n",
    "\n",
    "    # Convert alpha Image to numpy array\n",
    "    npAlpha=np.array(alpha)\n",
    "\n",
    "    # Add alpha layer to RGB\n",
    "    npImage=np.dstack((npImage,npAlpha))\n",
    "\n",
    "    # Save with alpha\n",
    "    return Image.fromarray(npImage)"
   ]
  },
  {
   "cell_type": "code",
   "execution_count": 9,
   "id": "0b324bcb",
   "metadata": {},
   "outputs": [],
   "source": [
    "def image_to_vignette(img,overlay):\n",
    "\n",
    "    img = image_to_circle(img)\n",
    "\n",
    "    img = img.convert(\"RGBA\")\n",
    "    overlay = overlay.convert(\"RGBA\")\n",
    "    #print(f\"Initial size is: image = {img.size} and overlay = {overlay.size}\")\n",
    "\n",
    "    # Coef used to oversize the overlay, in order to keep image picture quality hihg enough on result. If coaf = 1, output is (300,300) pixels\n",
    "    coef = 3\n",
    "\n",
    "    # Making overlay squared (current overlay is 300*302)\n",
    "    o_w, o_h = overlay.size\n",
    "    overlay = overlay.resize((o_w*coef,o_h*coef), Image.Resampling.LANCZOS)\n",
    "\n",
    "    #New overlay size\n",
    "    o_w, o_h = overlay.size\n",
    "    #print(f\"New overlay size = {overlay.size}\")\n",
    "    #display(overlay)\n",
    "\n",
    "    # Downsizing the image\n",
    "    new_size = (220*coef,220*coef)\n",
    "    img_resized = img.resize(new_size, Image.Resampling.LANCZOS)\n",
    "    i_w, i_h = img_resized.size\n",
    "    #print(img_resized.size)\n",
    "    #print(i_w, i_h)\n",
    "    #display(img_resized)\n",
    "\n",
    "\n",
    "    px_vertical_offset= 1*coef # it seems transparent circle is not perfectly centered\n",
    "    offset_to_center = ((o_w - i_w) // 2, (o_h - i_h) // 2 + px_vertical_offset)\n",
    "    #print(((o_w - i_w) % 2 == 0) and ((o_h - i_h) % 2 ==0))\n",
    "\n",
    "    img_resized_tbg = Image.new('RGBA', (o_w, o_h),\n",
    "                                    (255, 255, 255,0))\n",
    "    img_resized_tbg.paste(img_resized, offset_to_center)\n",
    "    #print(img_resized_tbg.size)\n",
    "\n",
    "    return Image.alpha_composite(overlay, img_resized_tbg)"
   ]
  },
  {
   "cell_type": "code",
   "execution_count": 10,
   "id": "ab230ab4",
   "metadata": {},
   "outputs": [],
   "source": [
    "path = \"/Users/arthurcamu/code/test_vignettes\"\n",
    "\n",
    "circles_path = os.path.join(path, 'cercles')\n",
    "vignettes_path = os.path.join(path, 'vignettes')\n",
    "\n",
    "overlay_path = \"/Users/arthurcamu/code/\"\n",
    "overlay = Image.open(os.path.join(overlay_path,\"masque.png\"))\n",
    "\n",
    "valid_images = [\".jpg\",\".png\"]\n",
    "\n",
    "if not os.path.exists(circles_path):\n",
    "    os.mkdir(circles_path)\n",
    "\n",
    "if not os.path.exists(vignettes_path):\n",
    "    os.mkdir(vignettes_path)\n",
    "\n",
    "for f in os.listdir(path):\n",
    "    ext = os.path.splitext(f)[1]\n",
    "    if ext.lower() not in valid_images:\n",
    "        continue\n",
    "    img = Image.open(os.path.join(path,f))\n",
    "    image_to_circle(img).save(os.path.join(circles_path,f\"{f}_circle.png\"),\"PNG\")\n",
    "    image_to_vignette(img, overlay).save(\n",
    "        os.path.join(vignettes_path, f\"{f}_vignette.png\"), \"PNG\")\n"
   ]
  },
  {
   "cell_type": "code",
   "execution_count": null,
   "id": "ee7d92a1",
   "metadata": {},
   "outputs": [],
   "source": []
  },
  {
   "cell_type": "code",
   "execution_count": null,
   "id": "af8e8698",
   "metadata": {},
   "outputs": [],
   "source": []
  },
  {
   "attachments": {},
   "cell_type": "markdown",
   "id": "12add4dd",
   "metadata": {},
   "source": [
    "# Using OpenCV"
   ]
  },
  {
   "cell_type": "code",
   "execution_count": 2,
   "id": "2d852a7c",
   "metadata": {},
   "outputs": [],
   "source": [
    "import cv2"
   ]
  },
  {
   "cell_type": "code",
   "execution_count": 3,
   "id": "3cfc6549",
   "metadata": {},
   "outputs": [],
   "source": [
    "import matplotlib.pyplot as plt"
   ]
  },
  {
   "cell_type": "code",
   "execution_count": 16,
   "id": "de5c9d8b",
   "metadata": {},
   "outputs": [
    {
     "name": "stdout",
     "output_type": "stream",
     "text": [
      "(800, 800, 3) (302, 300, 3)\n"
     ]
    }
   ],
   "source": [
    "img1 = cv2.imread('result.png')\n",
    "img2 = cv2.imread('masque.png')\n",
    "print(img1.shape,img2.shape)"
   ]
  },
  {
   "cell_type": "code",
   "execution_count": 5,
   "id": "717a4982",
   "metadata": {},
   "outputs": [],
   "source": [
    "img2_r = cv2.resize(img2, (300,300), interpolation=cv2.INTER_AREA)"
   ]
  },
  {
   "cell_type": "code",
   "execution_count": 6,
   "id": "03a94556",
   "metadata": {},
   "outputs": [
    {
     "data": {
      "text/plain": [
       "(300, 300)"
      ]
     },
     "execution_count": 6,
     "metadata": {},
     "output_type": "execute_result"
    }
   ],
   "source": [
    "img2_r.shape[0:2]"
   ]
  },
  {
   "cell_type": "code",
   "execution_count": 7,
   "id": "8f151a22",
   "metadata": {},
   "outputs": [],
   "source": [
    "img1_r = cv2.resize(img1, img2_r.shape[0:2], interpolation=cv2.INTER_AREA)"
   ]
  },
  {
   "cell_type": "code",
   "execution_count": 8,
   "id": "781d1416",
   "metadata": {},
   "outputs": [
    {
     "data": {
      "text/plain": [
       "(300, 300, 3)"
      ]
     },
     "execution_count": 8,
     "metadata": {},
     "output_type": "execute_result"
    }
   ],
   "source": [
    "img1_r.shape"
   ]
  },
  {
   "cell_type": "code",
   "execution_count": 10,
   "id": "2801e6a7",
   "metadata": {},
   "outputs": [],
   "source": [
    "cv2.imshow(\"img1\",img1)\n",
    "cv2.waitKey(0)\n",
    "cv2.destroyAllWindows()"
   ]
  },
  {
   "cell_type": "code",
   "execution_count": 11,
   "id": "08010b9b",
   "metadata": {},
   "outputs": [],
   "source": [
    "new_img = cv2.addWeighted(img1_r, 1, img2_r, 1, 0)"
   ]
  },
  {
   "cell_type": "code",
   "execution_count": 14,
   "id": "6079ed36",
   "metadata": {},
   "outputs": [
    {
     "data": {
      "text/plain": [
       "True"
      ]
     },
     "execution_count": 14,
     "metadata": {},
     "output_type": "execute_result"
    }
   ],
   "source": [
    "cv2.imwrite('new_blend.png',new_img)"
   ]
  },
  {
   "cell_type": "code",
   "execution_count": null,
   "id": "c8c0391d",
   "metadata": {},
   "outputs": [],
   "source": []
  }
 ],
 "metadata": {
  "kernelspec": {
   "display_name": "Python 3",
   "language": "python",
   "name": "python3"
  },
  "language_info": {
   "codemirror_mode": {
    "name": "ipython",
    "version": 3
   },
   "file_extension": ".py",
   "mimetype": "text/x-python",
   "name": "python",
   "nbconvert_exporter": "python",
   "pygments_lexer": "ipython3",
   "version": "3.10.6"
  },
  "toc": {
   "base_numbering": 1,
   "nav_menu": {},
   "number_sections": true,
   "sideBar": true,
   "skip_h1_title": false,
   "title_cell": "Table of Contents",
   "title_sidebar": "Contents",
   "toc_cell": false,
   "toc_position": {},
   "toc_section_display": true,
   "toc_window_display": false
  },
  "vscode": {
   "interpreter": {
    "hash": "f49970a424e9c80518097357ab2cde8b41f33e3631579491d617faebd5e70d32"
   }
  }
 },
 "nbformat": 4,
 "nbformat_minor": 5
}
